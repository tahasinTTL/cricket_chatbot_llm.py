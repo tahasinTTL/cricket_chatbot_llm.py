{
 "cells": [
  {
   "cell_type": "code",
   "execution_count": null,
   "metadata": {},
   "outputs": [],
   "source": [
    "# %pip install ipython\n",
    "%pip install --upgrade langchain -q\n",
    "\n",
    "# requires for openai embedding\n",
    "# %pip install tiktoken -q\n",
    "# %pip install huggingface_hub\n",
    "%pip install faiss-cpu\n",
    "%pip install InstructorEmbedding\n",
    "# %pip install sentence-transformers==2.2.2\n",
    "# %pip install pypdf2\n",
    "# %pip install ipywidgets"
   ]
  },
  {
   "cell_type": "code",
   "execution_count": null,
   "metadata": {},
   "outputs": [],
   "source": [
    "from PIL import Image\n",
    "from IPython.display import display\n",
    "\n",
    "open_image = Image.open('/kaggle/input/cricket/flowchart.png')\n",
    "display(open_image)"
   ]
  },
  {
   "cell_type": "code",
   "execution_count": null,
   "metadata": {},
   "outputs": [],
   "source": [
    "from PyPDF2 import PdfReader\n",
    "\n",
    "# loader = Docx2txtLoader('/content/drive/MyDrive/cricket_test/Cricket.docx')\n",
    "# documents = loader.load()\n",
    "\n",
    "def get_pdf_text(pdf_docs):\n",
    "  text = \"\"\n",
    "  pdf_reader = PdfReader(pdf_docs)\n",
    "  for page in pdf_reader.pages:\n",
    "    text += page.extract_text()\n",
    "    \n",
    "  return text\n",
    "\n",
    "text = get_pdf_text('/kaggle/input/cricket/Cricket.pdf')\n",
    "print(text)"
   ]
  }
 ],
 "metadata": {
  "language_info": {
   "name": "python"
  }
 },
 "nbformat": 4,
 "nbformat_minor": 2
}
