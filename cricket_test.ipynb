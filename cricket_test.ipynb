{
 "cells": [
  {
   "cell_type": "code",
   "execution_count": null,
   "metadata": {},
   "outputs": [],
   "source": [
    "# %pip install ipython\n",
    "%pip install --upgrade langchain -q\n",
    "\n",
    "# requires for openai embedding\n",
    "# %pip install tiktoken -q\n",
    "# %pip install huggingface_hub\n",
    "%pip install faiss-cpu\n",
    "%pip install InstructorEmbedding\n",
    "# %pip install sentence-transformers==2.2.2\n",
    "# %pip install pypdf2\n",
    "# %pip install ipywidgets"
   ]
  },
  {
   "cell_type": "markdown",
   "metadata": {},
   "source": [
    "Here is a sample flowchart of the Task. From this flowchart, I skip the pinecone part."
   ]
  },
  {
   "cell_type": "code",
   "execution_count": null,
   "metadata": {},
   "outputs": [],
   "source": [
    "from PIL import Image\n",
    "from IPython.display import display\n",
    "\n",
    "open_image = Image.open('/kaggle/input/cricket/flowchart.png')\n",
    "display(open_image)"
   ]
  },
  {
   "cell_type": "markdown",
   "metadata": {},
   "source": [
    "Convert the Doc file into PDF for my good."
   ]
  },
  {
   "cell_type": "code",
   "execution_count": null,
   "metadata": {},
   "outputs": [],
   "source": [
    "from PyPDF2 import PdfReader\n",
    "\n",
    "# loader = Docx2txtLoader('/content/drive/MyDrive/cricket_test/Cricket.docx')\n",
    "# documents = loader.load()\n",
    "\n",
    "def get_pdf_text(pdf_docs):\n",
    "  text = \"\"\n",
    "  pdf_reader = PdfReader(pdf_docs)\n",
    "  for page in pdf_reader.pages:\n",
    "    text += page.extract_text()\n",
    "    \n",
    "  return text\n",
    "\n",
    "text = get_pdf_text('Cricket.pdf')\n",
    "print(text)"
   ]
  },
  {
   "cell_type": "markdown",
   "metadata": {},
   "source": [
    "Here I splitted the pdf into chunk file for easily upload to the model to avoid any interruption during the embed."
   ]
  },
  {
   "cell_type": "code",
   "execution_count": null,
   "metadata": {},
   "outputs": [],
   "source": [
    "from langchain.text_splitter import RecursiveCharacterTextSplitter, CharacterTextSplitter\n",
    "\n",
    "def split_docs(text):\n",
    "  text_splitter = RecursiveCharacterTextSplitter(chunk_size=1000, chunk_overlap=100, length_function=len)\n",
    "  docs = text_splitter.split_text(text)\n",
    "  return docs\n",
    "\n",
    "docs = split_docs(text)\n",
    "\n",
    "print(len(docs))"
   ]
  }
 ],
 "metadata": {
  "language_info": {
   "name": "python"
  }
 },
 "nbformat": 4,
 "nbformat_minor": 2
}
